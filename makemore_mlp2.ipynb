{
 "cells": [
  {
   "cell_type": "code",
   "execution_count": 19,
   "id": "2a6314a1",
   "metadata": {},
   "outputs": [],
   "source": [
    "import torch\n",
    "import torch.nn.functional as F\n",
    "import matplotlib.pyplot as plt\n",
    "%matplotlib inline"
   ]
  },
  {
   "cell_type": "code",
   "execution_count": 71,
   "id": "d76fb1eb",
   "metadata": {},
   "outputs": [
    {
     "data": {
      "text/plain": [
       "['emma', 'olivia', 'ava', 'isabella', 'sophia', 'charlotte', 'mia', 'amelia']"
      ]
     },
     "execution_count": 71,
     "metadata": {},
     "output_type": "execute_result"
    }
   ],
   "source": [
    "words = open('names.txt', 'r').read().splitlines()\n",
    "words[:8]"
   ]
  },
  {
   "cell_type": "code",
   "execution_count": 72,
   "id": "caeaedf5",
   "metadata": {},
   "outputs": [
    {
     "data": {
      "text/plain": [
       "32033"
      ]
     },
     "execution_count": 72,
     "metadata": {},
     "output_type": "execute_result"
    }
   ],
   "source": [
    "len(words)"
   ]
  },
  {
   "cell_type": "code",
   "execution_count": 73,
   "id": "accd463d",
   "metadata": {},
   "outputs": [
    {
     "name": "stdout",
     "output_type": "stream",
     "text": [
      "27\n",
      "{1: 'a', 2: 'b', 3: 'c', 4: 'd', 5: 'e', 6: 'f', 7: 'g', 8: 'h', 9: 'i', 10: 'j', 11: 'k', 12: 'l', 13: 'm', 14: 'n', 15: 'o', 16: 'p', 17: 'q', 18: 'r', 19: 's', 20: 't', 21: 'u', 22: 'v', 23: 'w', 24: 'x', 25: 'y', 26: 'z', 0: '.'}\n"
     ]
    }
   ],
   "source": [
    "chars = sorted(list(set(''.join(words))))\n",
    "stoi = {s:i+1 for i, s in enumerate(chars)}\n",
    "stoi['.'] = 0\n",
    "itos = {i:s for s, i in stoi.items()}\n",
    "vocab_size = len(itos)\n",
    "print(vocab_size)\n",
    "print(itos)"
   ]
  },
  {
   "cell_type": "code",
   "execution_count": 119,
   "id": "3951ae0f",
   "metadata": {},
   "outputs": [
    {
     "name": "stdout",
     "output_type": "stream",
     "text": [
      "torch.Size([182441, 3]) torch.Size([182441])\n",
      "torch.Size([22902, 3]) torch.Size([22902])\n",
      "torch.Size([22803, 3]) torch.Size([22803])\n"
     ]
    }
   ],
   "source": [
    "# building the dataset\n",
    "block_size = 3\n",
    "def build_dataset(words):\n",
    "    X, Y = [], []\n",
    "    for w in words:\n",
    "        context = [0] * block_size\n",
    "        for ch in w + '.':\n",
    "            ix = stoi[ch]\n",
    "            X.append(context)\n",
    "            Y.append(ix)\n",
    "            context = context[1:] + [ix]\n",
    "    X = torch.tensor(X)\n",
    "    Y = torch.tensor(Y)\n",
    "    print(X.shape, Y.shape)\n",
    "    return X, Y\n",
    "\n",
    "import random\n",
    "random.seed(42)\n",
    "random.shuffle(words)\n",
    "n1 = int(0.8 * len(words))\n",
    "n2 = int(0.9 * len(words))\n",
    "\n",
    "Xtr, Ytr = build_dataset(words[:n1])\n",
    "Xdev, Ydev = build_dataset(words[n1:n2])\n",
    "Xte, Yte = build_dataset(words[n2:])"
   ]
  },
  {
   "cell_type": "code",
   "execution_count": 120,
   "id": "2e32bd10",
   "metadata": {},
   "outputs": [],
   "source": [
    "n_embed = 10\n",
    "n_hidden = 200"
   ]
  },
  {
   "cell_type": "code",
   "execution_count": 188,
   "id": "f32e5c2f",
   "metadata": {},
   "outputs": [],
   "source": [
    "g = torch.Generator().manual_seed(2147483647)\n",
    "C = torch.randn((vocab_size, n_embed), generator=g)  # 27 chars, embedding dim 2\n",
    "W1 = torch.randn((n_embed*block_size, n_hidden), generator=g)  * 0.2\n",
    "b1 = torch.randn(n_hidden, generator=g)  * 0.01\n",
    "W2 = torch.randn((n_hidden, vocab_size), generator=g)  * 0.01\n",
    "b2 = torch.randn(vocab_size, generator=g)  * 0\n",
    "\n",
    "bngain = torch.ones((1, n_hidden))\n",
    "bnbias = torch.zeros((1, n_hidden))\n",
    "bnmean_running = torch.zeros((1, n_hidden))\n",
    "bnstd_running = torch.ones((1, n_hidden))\n",
    "parameters = [C, W1, b1, W2, b2, bngain, bnbias]\n",
    "for p in parameters:\n",
    "    p.requires_grad = True"
   ]
  },
  {
   "cell_type": "code",
   "execution_count": 189,
   "id": "c5f5eeec",
   "metadata": {},
   "outputs": [
    {
     "name": "stdout",
     "output_type": "stream",
     "text": [
      "      0/200000: 3.3011\n",
      "  10000/200000: 1.9593\n",
      "  20000/200000: 2.5039\n",
      "  30000/200000: 2.0369\n",
      "  40000/200000: 1.7289\n",
      "  50000/200000: 2.2299\n",
      "  60000/200000: 2.1777\n",
      "  70000/200000: 2.2777\n",
      "  80000/200000: 1.8482\n",
      "  90000/200000: 1.8001\n",
      " 100000/200000: 1.8794\n",
      " 110000/200000: 2.0694\n",
      " 120000/200000: 2.4349\n",
      " 130000/200000: 1.8600\n",
      " 140000/200000: 2.0119\n",
      " 150000/200000: 1.8257\n",
      " 160000/200000: 2.3265\n",
      " 170000/200000: 2.1778\n",
      " 180000/200000: 2.4173\n",
      " 190000/200000: 1.9621\n",
      "2.261861562728882\n"
     ]
    }
   ],
   "source": [
    "batch_size = 32\n",
    "max_steps = 200000\n",
    "lossi = []\n",
    "for i in range(max_steps):\n",
    "    # construct a mini-batch of data\n",
    "    ix = torch.randint(0, Xtr.shape[0], (batch_size,))  # 32 random indices\n",
    "    Xb, Yb = Xtr[ix], Ytr[ix]  # batch of data\n",
    "    # forward pass\n",
    "    emb = C[Xb]\n",
    "    embcat = emb.view(emb.shape[0], -1)  # flatten the batch of embeddings\n",
    "    hpreact = embcat @ W1 + b1  # hidden layer pre-activation\n",
    "    bnmeani = hpreact.mean(0, keepdim=True)  # batch norm mean\n",
    "    bnstdi = hpreact.std(0, keepdim=True)  # batch norm std\n",
    "    hpreact = bngain*(hpreact - bnmeani) / (bnstdi) + bnbias # center the hidden layer pre-activation\n",
    "\n",
    "    with torch.no_grad():\n",
    "        bnmean_running = 0.999 * bnmean_running + 0.001 * bnmeani\n",
    "        bnstd_running = 0.999 * bnstd_running + 0.001 * bnstdi\n",
    "\n",
    "\n",
    "    h = torch.tanh(hpreact)  # hidden layer activation\n",
    "    logits = h @ W2 + b2\n",
    "    loss = F.cross_entropy(logits, Yb)\n",
    "\n",
    "    # backward pass\n",
    "    for p in parameters:\n",
    "        p.grad = None  # zero the gradients\n",
    "\n",
    "    # compute gradients\n",
    "    loss.backward()\n",
    "\n",
    "    lr = 0.08 if i < 100000 else 0.01  # learning rate schedule\n",
    "    for p in parameters:\n",
    "        p.data -= lr * p.grad  # gradient descent step\n",
    "    if i % 10000 == 0:\n",
    "        print(f\"{i:7d}/{max_steps}: {loss.item():.4f}\")\n",
    "    lossi.append(loss.log10().item())\n",
    "print(loss.item())"
   ]
  },
  {
   "cell_type": "code",
   "execution_count": 190,
   "id": "05f3e0b9",
   "metadata": {},
   "outputs": [
    {
     "data": {
      "text/plain": [
       "[<matplotlib.lines.Line2D at 0x20e79ae70e0>]"
      ]
     },
     "execution_count": 190,
     "metadata": {},
     "output_type": "execute_result"
    },
    {
     "data": {
      "image/png": "[encoded data removed]",
      "text/plain": [
       "<Figure size 640x480 with 1 Axes>"
      ]
     },
     "metadata": {},
     "output_type": "display_data"
    }
   ],
   "source": [
    "plt.plot(lossi)"
   ]
  },
  {
   "cell_type": "code",
   "execution_count": 191,
   "id": "a7a6240e",
   "metadata": {},
   "outputs": [
    {
     "name": "stdout",
     "output_type": "stream",
     "text": [
      "train loss: 2.0602\n",
      "val loss: 2.1123\n"
     ]
    }
   ],
   "source": [
    "@torch.no_grad()\n",
    "def split_loss(split):\n",
    "    x, y = {\n",
    "        'train': (Xtr, Ytr),\n",
    "        'val': (Xdev, Ydev),\n",
    "        'test': (Xte, Yte)\n",
    "    }[split]\n",
    "    emb = C[x]\n",
    "    embcat = emb.view(emb.shape[0], -1)\n",
    "    hpreact = embcat @ W1 + b1\n",
    "    hpreact = bngain*(hpreact - bnmean_running) / bnstd_running + bnbias\n",
    "    h = torch.tanh(hpreact) \n",
    "    logits = h @ W2 + b2\n",
    "    loss = F.cross_entropy(logits, y)\n",
    "    print(f\"{split} loss: {loss.item():.4f}\")\n",
    "split_loss('train')\n",
    "split_loss('val')"
   ]
  },
  {
   "cell_type": "code",
   "execution_count": 193,
   "id": "c2982187",
   "metadata": {},
   "outputs": [
    {
     "name": "stdout",
     "output_type": "stream",
     "text": [
      "marian\n",
      "sana\n",
      "jerman\n",
      "ana\n",
      "ari\n",
      "mari\n",
      "jara\n",
      "kalie\n",
      "kaileigh\n",
      "mariel\n",
      "adelin\n",
      "marianna\n",
      "kamilah\n",
      "marianna\n",
      "gavianna\n",
      "kalin\n",
      "jaylen\n",
      "bran\n",
      "kaylen\n",
      "darianna\n"
     ]
    }
   ],
   "source": [
    "# sample from the model\n",
    "g = torch.Generator().manual_seed(2147483647+ 10)\n",
    "temperature = 0.3\n",
    "for i in range(20):\n",
    "    out = []\n",
    "    context = [0] * block_size\n",
    "    while True:\n",
    "        emb = C[torch.tensor([context])]\n",
    "        embcat = emb.view(emb.shape[0], -1)\n",
    "        hpreact = embcat @ W1 + b1\n",
    "        hpreact = bngain*(hpreact - bnmean_running) / bnstd_running + bnbias\n",
    "        h = torch.tanh(hpreact)\n",
    "        logits = h @ W2 + b2\n",
    "        logits = logits / temperature  # scale the logits by temperature\n",
    "        probs = F.softmax(logits, dim=1)\n",
    "        ix = torch.multinomial(probs, num_samples=1, generator=g).item()\n",
    "        context = context[1:] + [ix]\n",
    "        if ix == 0:\n",
    "            break\n",
    "        out.append(ix)\n",
    "    print(''.join(itos[i] for i in out))"
   ]
  }
 ],
 "metadata": {
  "kernelspec": {
   "display_name": ".venv",
   "language": "python",
   "name": "python3"
  },
  "language_info": {
   "codemirror_mode": {
    "name": "ipython",
    "version": 3
   },
   "file_extension": ".py",
   "mimetype": "text/x-python",
   "name": "python",
   "nbconvert_exporter": "python",
   "pygments_lexer": "ipython3",
   "version": "3.12.9"
  }
 },
 "nbformat": 4,
 "nbformat_minor": 5
}
